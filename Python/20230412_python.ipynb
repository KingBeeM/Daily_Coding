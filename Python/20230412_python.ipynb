{
  "nbformat": 4,
  "nbformat_minor": 0,
  "metadata": {
    "colab": {
      "provenance": [],
      "toc_visible": true,
      "authorship_tag": "ABX9TyPb/7pz0EZ8Ym3O8yJuysNe",
      "include_colab_link": true
    },
    "kernelspec": {
      "name": "python3",
      "display_name": "Python 3"
    },
    "language_info": {
      "name": "python"
    }
  },
  "cells": [
    {
      "cell_type": "markdown",
      "metadata": {
        "id": "view-in-github",
        "colab_type": "text"
      },
      "source": [
        "<a href=\"https://colab.research.google.com/github/KingBeeM/Daily_Coding/blob/main/Python/20230412_python.ipynb\" target=\"_parent\"><img src=\"https://colab.research.google.com/assets/colab-badge.svg\" alt=\"Open In Colab\"/></a>"
      ]
    },
    {
      "cell_type": "markdown",
      "source": [
        "#  데이터 타입\n",
        "- int, float, str, bool 등"
      ],
      "metadata": {
        "id": "rzzIXSbV_2xl"
      }
    },
    {
      "cell_type": "markdown",
      "source": [
        "## int 형"
      ],
      "metadata": {
        "id": "zxiZK1QZAGuu"
      }
    },
    {
      "cell_type": "code",
      "source": [
        "num_int = 30\n",
        "print(num_int)\n",
        "print(type(num_int))"
      ],
      "metadata": {
        "colab": {
          "base_uri": "https://localhost:8080/"
        },
        "id": "VLnnoPj0ADG8",
        "outputId": "940fee81-10dd-4699-aeba-8d9306449545"
      },
      "execution_count": null,
      "outputs": [
        {
          "output_type": "stream",
          "name": "stdout",
          "text": [
            "30\n",
            "<class 'int'>\n"
          ]
        }
      ]
    },
    {
      "cell_type": "markdown",
      "source": [
        "## float 형"
      ],
      "metadata": {
        "id": "76aVz2y6AdyN"
      }
    },
    {
      "cell_type": "code",
      "source": [
        "num_float = 184.2\n",
        "print(num_float)\n",
        "print(type(num_float))"
      ],
      "metadata": {
        "colab": {
          "base_uri": "https://localhost:8080/"
        },
        "id": "NSTclGGeA8Ym",
        "outputId": "2db10e0c-ce93-42df-e407-316afc675b44"
      },
      "execution_count": null,
      "outputs": [
        {
          "output_type": "stream",
          "name": "stdout",
          "text": [
            "184.2\n",
            "<class 'float'>\n"
          ]
        }
      ]
    },
    {
      "cell_type": "markdown",
      "source": [
        "## str 형"
      ],
      "metadata": {
        "id": "zm7e1WU6BIIN"
      }
    },
    {
      "cell_type": "code",
      "source": [
        "txt_str = \"test\"\n",
        "print(txt_str)\n",
        "print(type(txt_str))"
      ],
      "metadata": {
        "colab": {
          "base_uri": "https://localhost:8080/"
        },
        "id": "ki6U3V9_BO78",
        "outputId": "3e07d1a2-2bd4-4ea7-c78d-45e2a0fd77dd"
      },
      "execution_count": null,
      "outputs": [
        {
          "output_type": "stream",
          "name": "stdout",
          "text": [
            "test\n",
            "<class 'str'>\n"
          ]
        }
      ]
    },
    {
      "cell_type": "markdown",
      "source": [
        "## boolean 형\n",
        "- 논리 (참/거짓)"
      ],
      "metadata": {
        "id": "JJ_wHhgfBs0f"
      }
    },
    {
      "cell_type": "code",
      "source": [
        "x = True\n",
        "y = False\n",
        "z = x == y\n",
        "\n",
        "print(x, y, z)\n",
        "print(type(x), type(y), type(z))"
      ],
      "metadata": {
        "colab": {
          "base_uri": "https://localhost:8080/"
        },
        "id": "dTVZf98TCGCs",
        "outputId": "8457af4f-fe19-4156-bd59-a38223f4cd23"
      },
      "execution_count": null,
      "outputs": [
        {
          "output_type": "stream",
          "name": "stdout",
          "text": [
            "True False False\n",
            "<class 'bool'> <class 'bool'> <class 'bool'>\n"
          ]
        }
      ]
    },
    {
      "cell_type": "markdown",
      "source": [
        "# 연산"
      ],
      "metadata": {
        "id": "bUzgp4vUEKKN"
      }
    },
    {
      "cell_type": "markdown",
      "source": [
        "## 사칙연산\n",
        "- int 형 연산의 결과가 float 형 으로 자동 변환이 되는 경우 주의"
      ],
      "metadata": {
        "id": "dV4cfQMtCgNu"
      }
    },
    {
      "cell_type": "code",
      "source": [
        "x = 6\n",
        "y = 3\n",
        "\n",
        "print(x+y, type(x+y))\n",
        "print(x-y, type(x-y))\n",
        "print(x*y, type(x*y))\n",
        "print(x/y, type(x/y))\n",
        "print(x//y, type(x//y)) # 몫\n",
        "print(x%y, type(x%y))   # 나머지\n",
        "print(x**y, type(x**y)) # 제곱"
      ],
      "metadata": {
        "colab": {
          "base_uri": "https://localhost:8080/"
        },
        "id": "nRy1iTUgClBn",
        "outputId": "b5123bbb-c0cd-4955-f0b5-e6c53e0d220f"
      },
      "execution_count": null,
      "outputs": [
        {
          "output_type": "stream",
          "name": "stdout",
          "text": [
            "9 <class 'int'>\n",
            "3 <class 'int'>\n",
            "18 <class 'int'>\n",
            "2.0 <class 'float'>\n",
            "2 <class 'int'>\n",
            "0 <class 'int'>\n",
            "216 <class 'int'>\n"
          ]
        }
      ]
    },
    {
      "cell_type": "markdown",
      "source": [
        "## 비교연산\n",
        "- boolean 형으로 반환"
      ],
      "metadata": {
        "id": "V_iauKXADTJ_"
      }
    },
    {
      "cell_type": "code",
      "source": [
        "x = 10\n",
        "y = 11\n",
        "\n",
        "print(x==y)\n",
        "print(x!=y)\n",
        "print(x>y)\n",
        "print(x<y)\n",
        "print(x<=y)\n",
        "print(x>=y)"
      ],
      "metadata": {
        "colab": {
          "base_uri": "https://localhost:8080/"
        },
        "id": "__9xCmRXD62d",
        "outputId": "6abee0ee-8405-4cc2-e5df-847a570a26bf"
      },
      "execution_count": null,
      "outputs": [
        {
          "output_type": "stream",
          "name": "stdout",
          "text": [
            "False\n",
            "True\n",
            "False\n",
            "True\n",
            "True\n",
            "False\n"
          ]
        }
      ]
    },
    {
      "cell_type": "markdown",
      "source": [
        "# 타입변환"
      ],
      "metadata": {
        "id": "yXik4Hm1EUuP"
      }
    },
    {
      "cell_type": "code",
      "source": [
        "num = input(\"숫자를 입력해주세요.\")\n",
        "print(num)\n",
        "print(type(num))"
      ],
      "metadata": {
        "colab": {
          "base_uri": "https://localhost:8080/"
        },
        "id": "ELDIR5_0EYFA",
        "outputId": "f974934a-ff53-4f94-a162-81d422218c87"
      },
      "execution_count": null,
      "outputs": [
        {
          "output_type": "stream",
          "name": "stdout",
          "text": [
            "숫자를 입력해주세요.3\n",
            "3\n",
            "<class 'str'>\n"
          ]
        }
      ]
    },
    {
      "cell_type": "code",
      "source": [
        "num = int(input(\"숫자를 입력해주세요.\"))\n",
        "print(num)\n",
        "print(type(num))"
      ],
      "metadata": {
        "colab": {
          "base_uri": "https://localhost:8080/"
        },
        "id": "S_k3HcLlEjSd",
        "outputId": "4c74e872-7479-4c86-a55a-d7d2a209901f"
      },
      "execution_count": null,
      "outputs": [
        {
          "output_type": "stream",
          "name": "stdout",
          "text": [
            "숫자를 입력해주세요.3\n",
            "3\n",
            "<class 'int'>\n"
          ]
        }
      ]
    },
    {
      "cell_type": "markdown",
      "source": [
        "# String\n",
        "- 덧셈\n",
        "- 곱셈"
      ],
      "metadata": {
        "id": "PxSNmIJWEsCx"
      }
    },
    {
      "cell_type": "code",
      "source": [
        "a = \"소년은\"\n",
        "b = \"봄을\"\n",
        "c = \"좋아합니다.\"\n",
        "\n",
        "letter = a + \" \" + b + \" \" + c\n",
        "print(letter)"
      ],
      "metadata": {
        "colab": {
          "base_uri": "https://localhost:8080/"
        },
        "id": "xiNEWQTVEykj",
        "outputId": "f119b5a2-fe8a-4095-b40d-1ff6e1555f8f"
      },
      "execution_count": null,
      "outputs": [
        {
          "output_type": "stream",
          "name": "stdout",
          "text": [
            "소년은 봄을 좋아합니다.\n"
          ]
        }
      ]
    },
    {
      "cell_type": "code",
      "source": [
        "a = \"봄\"\n",
        "lyrics =  a * 3 + \" 봄이 왔어요~\"\n",
        "print(lyrics)"
      ],
      "metadata": {
        "colab": {
          "base_uri": "https://localhost:8080/"
        },
        "id": "_e4ZL9NRFq7F",
        "outputId": "15a2480e-69a3-4b6e-e7d7-bdb0b1850cfb"
      },
      "execution_count": null,
      "outputs": [
        {
          "output_type": "stream",
          "name": "stdout",
          "text": [
            "봄봄봄 봄이 왔어요~\n"
          ]
        }
      ]
    },
    {
      "cell_type": "markdown",
      "source": [
        "## 문자열 인덱싱 & 슬라이싱"
      ],
      "metadata": {
        "id": "ZwOrCvXzGGbf"
      }
    },
    {
      "cell_type": "markdown",
      "source": [
        " - 인덱싱"
      ],
      "metadata": {
        "id": "Pi1XhW_1IawO"
      }
    },
    {
      "cell_type": "code",
      "source": [
        "x = \"Hello World!!\"\n",
        "\n",
        "# Hello 의 알파벳 \"o\" 추출하기\n",
        "print(x[4])\n",
        "\n",
        "# World 의 알파벳 \"l\" 추출하기\n",
        "print(x[9], x[-4])"
      ],
      "metadata": {
        "colab": {
          "base_uri": "https://localhost:8080/"
        },
        "id": "MsAyL13lGI6w",
        "outputId": "c8610516-5ea6-4d17-bdb4-6338cf673d1c"
      },
      "execution_count": null,
      "outputs": [
        {
          "output_type": "stream",
          "name": "stdout",
          "text": [
            "o\n",
            "l l\n"
          ]
        }
      ]
    },
    {
      "cell_type": "markdown",
      "source": [
        "- 슬라이싱\n",
        " + [start_index : end_index : step_num]"
      ],
      "metadata": {
        "id": "W2WlmG6RIGPo"
      }
    },
    {
      "cell_type": "code",
      "source": [
        "x = \"Hello World!!\"\n",
        "\n",
        "# World 글자 추출하기\n",
        "print(x[6:11])\n",
        "\n",
        "# 전체 추출하기\n",
        "print(x)\n",
        "print(x[:])"
      ],
      "metadata": {
        "colab": {
          "base_uri": "https://localhost:8080/"
        },
        "id": "to9egbVLIVgm",
        "outputId": "3151564f-8ac7-4621-a926-e6529445cef7"
      },
      "execution_count": null,
      "outputs": [
        {
          "output_type": "stream",
          "name": "stdout",
          "text": [
            "World\n",
            "Hello World!!\n",
            "Hello World!!\n"
          ]
        }
      ]
    },
    {
      "cell_type": "markdown",
      "source": [
        "\n",
        "\n",
        "```\n",
        "# 코드로 형식 지정됨\n",
        "```\n",
        "\n",
        "- immutable(불변) 객체\n",
        "- mutable(변하기 쉬운) 객체"
      ],
      "metadata": {
        "id": "sGz7RHeaO2AK"
      }
    },
    {
      "cell_type": "code",
      "source": [
        "x = \"Aello World!!\"\n",
        "\n",
        "# Hello World!! 로 바꾸기 1\n",
        "# x[0] = \"H\"\n",
        "# print(x)\n",
        "\n",
        "x = list(x)\n",
        "x[0] = \"H\"\n",
        "x = \"\".join(x)\n",
        "print(x)\n",
        "\n",
        "x = \"Aello World!!\"\n",
        "\n",
        "# Hello World!! 로 바꾸기 2\n",
        "x = x.replace(\"A\", \"H\")\n",
        "print(x)"
      ],
      "metadata": {
        "colab": {
          "base_uri": "https://localhost:8080/"
        },
        "id": "i609xwAhNwoN",
        "outputId": "14dd5170-4e87-4ea3-a496-64390f51419c"
      },
      "execution_count": null,
      "outputs": [
        {
          "output_type": "stream",
          "name": "stdout",
          "text": [
            "Hello World!!\n",
            "Hello World!!\n"
          ]
        }
      ]
    },
    {
      "cell_type": "markdown",
      "source": [
        "## 문자열 메서드\n",
        "- 점프투파이썬 : https://wikidocs.net/13"
      ],
      "metadata": {
        "id": "vyd-cq28P6of"
      }
    },
    {
      "cell_type": "code",
      "source": [
        "sample_text = \"hello, kaggle\"\n",
        "upper_text = sample_text.upper()\n",
        "print(upper_text)"
      ],
      "metadata": {
        "colab": {
          "base_uri": "https://localhost:8080/"
        },
        "id": "_J9_l6dVOU9Y",
        "outputId": "25832bec-a504-4bc1-b0d1-b3ffbd30f6d7"
      },
      "execution_count": null,
      "outputs": [
        {
          "output_type": "stream",
          "name": "stdout",
          "text": [
            "HELLO, KAGGLE\n"
          ]
        }
      ]
    },
    {
      "cell_type": "markdown",
      "source": [
        "- AttributeError : 'int' object has no attribute 'upper'"
      ],
      "metadata": {
        "id": "IhdJGFTIQbqU"
      }
    },
    {
      "cell_type": "code",
      "source": [
        "sample_text = 123\n",
        "upper_text = sample_text.upper()\n",
        "print(sample_text)"
      ],
      "metadata": {
        "colab": {
          "base_uri": "https://localhost:8080/",
          "height": 211
        },
        "id": "I8kpQntdQS2U",
        "outputId": "64ed2c75-b1d1-4e3d-a53c-b46df367c25f"
      },
      "execution_count": null,
      "outputs": [
        {
          "output_type": "error",
          "ename": "AttributeError",
          "evalue": "ignored",
          "traceback": [
            "\u001b[0;31m---------------------------------------------------------------------------\u001b[0m",
            "\u001b[0;31mAttributeError\u001b[0m                            Traceback (most recent call last)",
            "\u001b[0;32m<ipython-input-69-09c49a5693ab>\u001b[0m in \u001b[0;36m<cell line: 2>\u001b[0;34m()\u001b[0m\n\u001b[1;32m      1\u001b[0m \u001b[0msample_text\u001b[0m \u001b[0;34m=\u001b[0m \u001b[0;36m123\u001b[0m\u001b[0;34m\u001b[0m\u001b[0;34m\u001b[0m\u001b[0m\n\u001b[0;32m----> 2\u001b[0;31m \u001b[0mupper_text\u001b[0m \u001b[0;34m=\u001b[0m \u001b[0msample_text\u001b[0m\u001b[0;34m.\u001b[0m\u001b[0mupper\u001b[0m\u001b[0;34m(\u001b[0m\u001b[0;34m)\u001b[0m\u001b[0;34m\u001b[0m\u001b[0;34m\u001b[0m\u001b[0m\n\u001b[0m\u001b[1;32m      3\u001b[0m \u001b[0mprint\u001b[0m\u001b[0;34m(\u001b[0m\u001b[0msample_text\u001b[0m\u001b[0;34m)\u001b[0m\u001b[0;34m\u001b[0m\u001b[0;34m\u001b[0m\u001b[0m\n",
            "\u001b[0;31mAttributeError\u001b[0m: 'int' object has no attribute 'upper'"
          ]
        }
      ]
    },
    {
      "cell_type": "markdown",
      "source": [
        "### **class**\n",
        " - 변수\n",
        " - 메서드 정의\n",
        "\n",
        "ex) 특정한 목적을 가지고 클래스 생성\n",
        " - str class\n",
        "  - 영어/대소문자 -> 자유롭게 변환 기능 필요 -> upper()/lower()\n",
        " - int class\n",
        "  - 숫자 -> upper 메서드가 없음\n",
        "\n",
        " 메뉴얼 : https://docs.python.org/3/library/index.html"
      ],
      "metadata": {
        "id": "xFnv_DZGQuVp"
      }
    },
    {
      "cell_type": "code",
      "source": [
        "sample_text = \"hello, kaggle\"\n",
        "new_text = sample_text.replace(\"hello\", \"welcome\")\n",
        "print(new_text)"
      ],
      "metadata": {
        "colab": {
          "base_uri": "https://localhost:8080/"
        },
        "id": "Pwn4XhkdQZl-",
        "outputId": "76f7d4fc-c395-4b98-a581-47d68bd8472b"
      },
      "execution_count": null,
      "outputs": [
        {
          "output_type": "stream",
          "name": "stdout",
          "text": [
            "welcome, kaggle\n"
          ]
        }
      ]
    },
    {
      "cell_type": "markdown",
      "source": [
        "- **str.replace(old, new[, count])**\n",
        " + Return a copy of the string with all occurrences of substring old replaced by new. If the optional argument count is given, only the first count occurrences are replaced."
      ],
      "metadata": {
        "id": "tuDkHEl_Ua8j"
      }
    },
    {
      "cell_type": "code",
      "source": [
        "sample_text = \"hello, kaggle\"\n",
        "new_text = sample_text.split(sep=\", \")\n",
        "print(new_text)"
      ],
      "metadata": {
        "colab": {
          "base_uri": "https://localhost:8080/"
        },
        "id": "FaWEpUCcUhZb",
        "outputId": "aeb9964c-e287-4d37-e949-e35111805a11"
      },
      "execution_count": null,
      "outputs": [
        {
          "output_type": "stream",
          "name": "stdout",
          "text": [
            "['hello', 'kaggle']\n"
          ]
        }
      ]
    },
    {
      "cell_type": "markdown",
      "source": [
        "![image.png](data:image/png;base64,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)"
      ],
      "metadata": {
        "id": "F8Yk790aUveg"
      }
    },
    {
      "cell_type": "markdown",
      "source": [
        "# List\n",
        "- 시퀀스 데이터\n",
        "- 반복문 쓸 수 있음"
      ],
      "metadata": {
        "id": "vrfyAmv80Cvd"
      }
    },
    {
      "cell_type": "code",
      "source": [
        "from collections.abc import Sequence\n",
        "my_num = 100\n",
        "my_list = [1, 2, 3]\n",
        "my_string = \"hello\"\n",
        "\n",
        "is_seq1 = isinstance(my_num, Sequence)\n",
        "print(is_seq1)\n",
        "is_seq2 = isinstance(my_list, Sequence)\n",
        "print(is_seq2)\n",
        "is_seq3 = isinstance(my_string, Sequence)\n",
        "print(is_seq3)"
      ],
      "metadata": {
        "colab": {
          "base_uri": "https://localhost:8080/"
        },
        "id": "KxTOEOv60HLI",
        "outputId": "d03a0b04-ed8b-4b37-e7f2-05b062addddf"
      },
      "execution_count": null,
      "outputs": [
        {
          "output_type": "stream",
          "name": "stdout",
          "text": [
            "False\n",
            "True\n",
            "True\n"
          ]
        }
      ]
    },
    {
      "cell_type": "markdown",
      "source": [
        "## 리스트 인덱싱 & 슬라이싱"
      ],
      "metadata": {
        "id": "xCMdPvKL1-wc"
      }
    },
    {
      "cell_type": "code",
      "source": [
        "a = [\"가\", \"나\", \"다\"]\n",
        "\n",
        "print(a[0])\n",
        "print(a[1])\n",
        "print(a[2])\n",
        "print(a[-1])"
      ],
      "metadata": {
        "colab": {
          "base_uri": "https://localhost:8080/"
        },
        "id": "pFGjhWXF2fus",
        "outputId": "de9d1328-94cf-4fcc-b947-4ab9b6f51100"
      },
      "execution_count": null,
      "outputs": [
        {
          "output_type": "stream",
          "name": "stdout",
          "text": [
            "가\n",
            "나\n",
            "다\n",
            "다\n"
          ]
        }
      ]
    },
    {
      "cell_type": "markdown",
      "source": [
        "- 인덱싱"
      ],
      "metadata": {
        "id": "baoIXlxo4QKV"
      }
    },
    {
      "cell_type": "code",
      "source": [
        "a = [1, 2, [\"Apple\", \"사과\", \"Banana\", \"키위\"], 4, 5, 6]\n",
        "print(a)\n",
        "\n",
        "# Banana 글자에서 마지막 \"a\" 추출하기\n",
        "print(a[2][2][-1])"
      ],
      "metadata": {
        "colab": {
          "base_uri": "https://localhost:8080/"
        },
        "id": "4FUrCqf02tb1",
        "outputId": "504bce3e-6fc7-4992-f699-afce778a84e7"
      },
      "execution_count": null,
      "outputs": [
        {
          "output_type": "stream",
          "name": "stdout",
          "text": [
            "[1, 2, ['Apple', '사과', 'Banana', '키위'], 4, 5, 6]\n",
            "a\n"
          ]
        }
      ]
    },
    {
      "cell_type": "markdown",
      "source": [
        "- 슬라이싱"
      ],
      "metadata": {
        "id": "39KaIpzg4SWd"
      }
    },
    {
      "cell_type": "code",
      "source": [
        "# \"사과\", \"Banana\", \"키위\" 추출하기\n",
        "print(a[2][1:])\n",
        "\n",
        "# 에서 \"Banana\" 글자에서 마지막 \"a\" 추출하기\n",
        "print(a[2][1:][1][-1])"
      ],
      "metadata": {
        "colab": {
          "base_uri": "https://localhost:8080/"
        },
        "id": "kQ8uZ3iG4PCf",
        "outputId": "1216a140-63e3-499b-e5fa-39b152514e2b"
      },
      "execution_count": null,
      "outputs": [
        {
          "output_type": "stream",
          "name": "stdout",
          "text": [
            "['사과', 'Banana', '키위']\n",
            "a\n"
          ]
        }
      ]
    },
    {
      "cell_type": "markdown",
      "source": [
        "## 리스트 메서드\n",
        "- 참조 : https://docs.python.org/3/library/stdtypes.html#sequence-types-list-tuple-range"
      ],
      "metadata": {
        "id": "Ru03dPR_5E6V"
      }
    },
    {
      "cell_type": "markdown",
      "source": [
        "### append()"
      ],
      "metadata": {
        "id": "FIdLikXW8BAV"
      }
    },
    {
      "cell_type": "code",
      "source": [
        "x = [\"가\", \"나\"]\n",
        "x.append(\"다\")\n",
        "print(x)"
      ],
      "metadata": {
        "colab": {
          "base_uri": "https://localhost:8080/"
        },
        "id": "G1s5NX824wxH",
        "outputId": "1aa2fb71-e985-49d2-9ac4-5398c515544a"
      },
      "execution_count": null,
      "outputs": [
        {
          "output_type": "stream",
          "name": "stdout",
          "text": [
            "['가', '나', '다']\n"
          ]
        }
      ]
    },
    {
      "cell_type": "code",
      "source": [
        "x = [\"가\", \"나\"]\n",
        "texts = [\"다\", \"라\", \"마\"]\n",
        "x.append(texts)\n",
        "print(x)"
      ],
      "metadata": {
        "colab": {
          "base_uri": "https://localhost:8080/"
        },
        "id": "zyru5CNG7iAn",
        "outputId": "723cb2f4-1153-4e6e-b14f-a9f2d47ad94b"
      },
      "execution_count": null,
      "outputs": [
        {
          "output_type": "stream",
          "name": "stdout",
          "text": [
            "['가', '나', ['다', '라', '마']]\n"
          ]
        }
      ]
    },
    {
      "cell_type": "markdown",
      "source": [
        "### extend()"
      ],
      "metadata": {
        "id": "oN9KmtgD8EXe"
      }
    },
    {
      "cell_type": "code",
      "source": [
        "x = [\"가\", \"나\"]\n",
        "texts = [\"다\", \"라\", \"마\"]\n",
        "x.extend(texts)\n",
        "print(x)"
      ],
      "metadata": {
        "colab": {
          "base_uri": "https://localhost:8080/"
        },
        "id": "dllcpIP87sje",
        "outputId": "a2b6d2ce-9a5e-4c2f-d34d-9c7a03b19c3c"
      },
      "execution_count": null,
      "outputs": [
        {
          "output_type": "stream",
          "name": "stdout",
          "text": [
            "['가', '나', '다', '라', '마']\n"
          ]
        }
      ]
    },
    {
      "cell_type": "markdown",
      "source": [
        "### insert()\n",
        "- 인덱스 번호를 지정한 후, 새로운 값 추"
      ],
      "metadata": {
        "id": "wk6q7Yu08H82"
      }
    },
    {
      "cell_type": "code",
      "source": [
        "x =  [\"가\", \"나\", \"라\"]\n",
        "x.insert(2, \"다\")\n",
        "print(x)"
      ],
      "metadata": {
        "colab": {
          "base_uri": "https://localhost:8080/"
        },
        "id": "7D29chTe7t4O",
        "outputId": "287fdbe4-b51a-4514-fbd4-e6141fd21b6d"
      },
      "execution_count": null,
      "outputs": [
        {
          "output_type": "stream",
          "name": "stdout",
          "text": [
            "['가', '나', '다', '라']\n"
          ]
        }
      ]
    },
    {
      "cell_type": "markdown",
      "source": [
        "### 리스트 값 변경"
      ],
      "metadata": {
        "id": "C3_XZ_rn85eu"
      }
    },
    {
      "cell_type": "code",
      "source": [
        "x = [\"가\", \"나\", \"C\", \"라\"]\n",
        "x[2] = \"다\"\n",
        "print(x)"
      ],
      "metadata": {
        "colab": {
          "base_uri": "https://localhost:8080/"
        },
        "id": "YB2X2IFa8S4O",
        "outputId": "e8c4dc71-03c3-4eea-e8e3-a01f61bd226e"
      },
      "execution_count": null,
      "outputs": [
        {
          "output_type": "stream",
          "name": "stdout",
          "text": [
            "['가', '나', '다', '라']\n"
          ]
        }
      ]
    },
    {
      "cell_type": "markdown",
      "source": [
        "### 리스트 값 삭제"
      ],
      "metadata": {
        "id": "whmP-m4u813u"
      }
    },
    {
      "cell_type": "code",
      "source": [
        "dates = [412, 510, 531, 1010]\n",
        "\n",
        "# 412 제거 하기\n",
        "dates.remove(412)\n",
        "print(dates)\n",
        "\n",
        "# del\n",
        "del dates[0]\n",
        "print(dates)"
      ],
      "metadata": {
        "colab": {
          "base_uri": "https://localhost:8080/"
        },
        "id": "tKIKeHJC8niX",
        "outputId": "8c93dda6-a932-48a7-d74c-fa5fe07668d9"
      },
      "execution_count": null,
      "outputs": [
        {
          "output_type": "stream",
          "name": "stdout",
          "text": [
            "[510, 531, 1010]\n",
            "[531, 1010]\n"
          ]
        }
      ]
    },
    {
      "cell_type": "markdown",
      "source": [
        "# Tuple\n",
        "- 리스트와 비슷\n",
        "- 차이점"
      ],
      "metadata": {
        "id": "PODu6aQOBi6P"
      }
    },
    {
      "cell_type": "code",
      "source": [
        "my_tuple =  (\"Hi\", 1, 2, 3)\n",
        "print(my_tuple)\n",
        "print(type(my_tuple))"
      ],
      "metadata": {
        "colab": {
          "base_uri": "https://localhost:8080/"
        },
        "id": "veUsk1SHBcgI",
        "outputId": "ca4328ba-f533-497a-ff2e-9b0c2429f1a2"
      },
      "execution_count": null,
      "outputs": [
        {
          "output_type": "stream",
          "name": "stdout",
          "text": [
            "('Hi', 1, 2, 3)\n",
            "<class 'tuple'>\n"
          ]
        }
      ]
    },
    {
      "cell_type": "code",
      "source": [
        "my_nested_tuple = (\"Hi\", [1, 2, 3], (3.11, 3.23, 21.1))\n",
        "print(my_nested_tuple)\n",
        "print(type(my_nested_tuple))"
      ],
      "metadata": {
        "colab": {
          "base_uri": "https://localhost:8080/"
        },
        "id": "byNrN30sBxpf",
        "outputId": "0c34042f-9a1c-43bf-b8cf-bdb6892fd1f2"
      },
      "execution_count": null,
      "outputs": [
        {
          "output_type": "stream",
          "name": "stdout",
          "text": [
            "('Hi', [1, 2, 3], (3.11, 3.23, 21.1))\n",
            "<class 'tuple'>\n"
          ]
        }
      ]
    },
    {
      "cell_type": "markdown",
      "source": [
        "## 리스트와 튜플\n",
        "- 인덱싱 & 슬라이싱 동일"
      ],
      "metadata": {
        "id": "PqrvrMj6CYAA"
      }
    },
    {
      "cell_type": "code",
      "source": [
        "a = (1, 2, (\"Apple\", \"사과\", \"Banana\", \"키위\"), 4, 5, 6)\n",
        "print(a)\n",
        "print(type(a))"
      ],
      "metadata": {
        "colab": {
          "base_uri": "https://localhost:8080/"
        },
        "id": "LXA4ZPepCNiY",
        "outputId": "44e3945c-ae81-4912-8d8b-5dca6d5a37be"
      },
      "execution_count": null,
      "outputs": [
        {
          "output_type": "stream",
          "name": "stdout",
          "text": [
            "(1, 2, ('Apple', '사과', 'Banana', '키위'), 4, 5, 6)\n",
            "<class 'tuple'>\n"
          ]
        }
      ]
    },
    {
      "cell_type": "code",
      "source": [
        "print(a[0:3])"
      ],
      "metadata": {
        "colab": {
          "base_uri": "https://localhost:8080/"
        },
        "id": "UQ5S4BH6CmM4",
        "outputId": "49773a53-d6cb-4fda-8663-d34586121651"
      },
      "execution_count": null,
      "outputs": [
        {
          "output_type": "stream",
          "name": "stdout",
          "text": [
            "(1, 2, ['Apple', '사과', 'Banana', '키위'])\n"
          ]
        }
      ]
    },
    {
      "cell_type": "code",
      "source": [
        "print(a[0:3][2][2][-1])"
      ],
      "metadata": {
        "colab": {
          "base_uri": "https://localhost:8080/"
        },
        "id": "mPQJgeqOCrkO",
        "outputId": "71ca0aea-d1c2-4251-949e-e421436f1c29"
      },
      "execution_count": null,
      "outputs": [
        {
          "output_type": "stream",
          "name": "stdout",
          "text": [
            "a\n"
          ]
        }
      ]
    },
    {
      "cell_type": "markdown",
      "source": [
        "## 리스트와 차이\n",
        "- 값 수정이 안된다."
      ],
      "metadata": {
        "id": "jWnnUbeeC2Nm"
      }
    },
    {
      "cell_type": "markdown",
      "source": [
        "+ TypeError: 'tuple' object does not support item assignment"
      ],
      "metadata": {
        "id": "fgQoji7bSN4p"
      }
    },
    {
      "cell_type": "code",
      "source": [
        "# 리스트\n",
        "\n",
        "x = [\"가\", \"나\", \"C\", \"라\"]\n",
        "x[2] = \"다\"\n",
        "print(x)\n",
        "\n",
        "# 튜플\n",
        "\n",
        "x = (\"가\", \"나\", \"C\", \"라\")\n",
        "x[2] = \"다\"\n",
        "print(x)\n"
      ],
      "metadata": {
        "colab": {
          "base_uri": "https://localhost:8080/",
          "height": 248
        },
        "id": "5CYlv1ODCzcH",
        "outputId": "fffeb4b7-160b-4e3e-846c-18fd336608f0"
      },
      "execution_count": null,
      "outputs": [
        {
          "output_type": "stream",
          "name": "stdout",
          "text": [
            "['가', '나', '다', '라']\n"
          ]
        },
        {
          "output_type": "error",
          "ename": "TypeError",
          "evalue": "ignored",
          "traceback": [
            "\u001b[0;31m---------------------------------------------------------------------------\u001b[0m",
            "\u001b[0;31mTypeError\u001b[0m                                 Traceback (most recent call last)",
            "\u001b[0;32m<ipython-input-108-4e5429aa896d>\u001b[0m in \u001b[0;36m<cell line: 10>\u001b[0;34m()\u001b[0m\n\u001b[1;32m      8\u001b[0m \u001b[0;34m\u001b[0m\u001b[0m\n\u001b[1;32m      9\u001b[0m \u001b[0mx\u001b[0m \u001b[0;34m=\u001b[0m \u001b[0;34m(\u001b[0m\u001b[0;34m\"가\"\u001b[0m\u001b[0;34m,\u001b[0m \u001b[0;34m\"나\"\u001b[0m\u001b[0;34m,\u001b[0m \u001b[0;34m\"C\"\u001b[0m\u001b[0;34m,\u001b[0m \u001b[0;34m\"라\"\u001b[0m\u001b[0;34m)\u001b[0m\u001b[0;34m\u001b[0m\u001b[0;34m\u001b[0m\u001b[0m\n\u001b[0;32m---> 10\u001b[0;31m \u001b[0mx\u001b[0m\u001b[0;34m[\u001b[0m\u001b[0;36m2\u001b[0m\u001b[0;34m]\u001b[0m \u001b[0;34m=\u001b[0m \u001b[0;34m\"다\"\u001b[0m\u001b[0;34m\u001b[0m\u001b[0;34m\u001b[0m\u001b[0m\n\u001b[0m\u001b[1;32m     11\u001b[0m \u001b[0mprint\u001b[0m\u001b[0;34m(\u001b[0m\u001b[0mx\u001b[0m\u001b[0;34m)\u001b[0m\u001b[0;34m\u001b[0m\u001b[0;34m\u001b[0m\u001b[0m\n",
            "\u001b[0;31mTypeError\u001b[0m: 'tuple' object does not support item assignment"
          ]
        }
      ]
    },
    {
      "cell_type": "markdown",
      "source": [
        "+ AttributeError: 'tuple' object has no attribute 'remove'"
      ],
      "metadata": {
        "id": "X-soAqSfSTnX"
      }
    },
    {
      "cell_type": "code",
      "source": [
        "dates = (412, 510, 531, 1010)\n",
        "\n",
        "# 412 제거 하기\n",
        "dates.remove(412)\n",
        "print(dates)"
      ],
      "metadata": {
        "colab": {
          "base_uri": "https://localhost:8080/",
          "height": 229
        },
        "id": "VDGtm9MuDSqA",
        "outputId": "3172238f-f998-455b-9c9f-3b8c922e8617"
      },
      "execution_count": null,
      "outputs": [
        {
          "output_type": "error",
          "ename": "AttributeError",
          "evalue": "ignored",
          "traceback": [
            "\u001b[0;31m---------------------------------------------------------------------------\u001b[0m",
            "\u001b[0;31mAttributeError\u001b[0m                            Traceback (most recent call last)",
            "\u001b[0;32m<ipython-input-112-5d4591ffac3e>\u001b[0m in \u001b[0;36m<cell line: 4>\u001b[0;34m()\u001b[0m\n\u001b[1;32m      2\u001b[0m \u001b[0;34m\u001b[0m\u001b[0m\n\u001b[1;32m      3\u001b[0m \u001b[0;31m# 412 제거 하기\u001b[0m\u001b[0;34m\u001b[0m\u001b[0;34m\u001b[0m\u001b[0m\n\u001b[0;32m----> 4\u001b[0;31m \u001b[0mdates\u001b[0m\u001b[0;34m.\u001b[0m\u001b[0mremove\u001b[0m\u001b[0;34m(\u001b[0m\u001b[0;36m412\u001b[0m\u001b[0;34m)\u001b[0m\u001b[0;34m\u001b[0m\u001b[0;34m\u001b[0m\u001b[0m\n\u001b[0m\u001b[1;32m      5\u001b[0m \u001b[0mprint\u001b[0m\u001b[0;34m(\u001b[0m\u001b[0mdates\u001b[0m\u001b[0;34m)\u001b[0m\u001b[0;34m\u001b[0m\u001b[0;34m\u001b[0m\u001b[0m\n",
            "\u001b[0;31mAttributeError\u001b[0m: 'tuple' object has no attribute 'remove'"
          ]
        }
      ]
    },
    {
      "cell_type": "markdown",
      "source": [
        "+ TypeError: 'tuple' object doesn't support item deletion"
      ],
      "metadata": {
        "id": "2ux0fV2HSYCA"
      }
    },
    {
      "cell_type": "code",
      "source": [
        "dates = (412, 510, 531, 1010)\n",
        "\n",
        "# del\n",
        "del dates[0]\n",
        "print(dates)"
      ],
      "metadata": {
        "colab": {
          "base_uri": "https://localhost:8080/",
          "height": 229
        },
        "id": "pZPWT82TDjCp",
        "outputId": "bd43a766-831f-43c0-8f18-2bf1031a3547"
      },
      "execution_count": null,
      "outputs": [
        {
          "output_type": "error",
          "ename": "TypeError",
          "evalue": "ignored",
          "traceback": [
            "\u001b[0;31m---------------------------------------------------------------------------\u001b[0m",
            "\u001b[0;31mTypeError\u001b[0m                                 Traceback (most recent call last)",
            "\u001b[0;32m<ipython-input-113-a89d8e0e7e40>\u001b[0m in \u001b[0;36m<cell line: 4>\u001b[0;34m()\u001b[0m\n\u001b[1;32m      2\u001b[0m \u001b[0;34m\u001b[0m\u001b[0m\n\u001b[1;32m      3\u001b[0m \u001b[0;31m# del\u001b[0m\u001b[0;34m\u001b[0m\u001b[0;34m\u001b[0m\u001b[0m\n\u001b[0;32m----> 4\u001b[0;31m \u001b[0;32mdel\u001b[0m \u001b[0mdates\u001b[0m\u001b[0;34m[\u001b[0m\u001b[0;36m0\u001b[0m\u001b[0;34m]\u001b[0m\u001b[0;34m\u001b[0m\u001b[0;34m\u001b[0m\u001b[0m\n\u001b[0m\u001b[1;32m      5\u001b[0m \u001b[0mprint\u001b[0m\u001b[0;34m(\u001b[0m\u001b[0mdates\u001b[0m\u001b[0;34m)\u001b[0m\u001b[0;34m\u001b[0m\u001b[0;34m\u001b[0m\u001b[0m\n",
            "\u001b[0;31mTypeError\u001b[0m: 'tuple' object doesn't support item deletion"
          ]
        }
      ]
    },
    {
      "cell_type": "code",
      "source": [
        "my_tuple = (\"가\", \"가\", \"나\", \"나\", \"나\", \"다\", \"라\")\n",
        "print(my_tuple.count(\"나\"))\n",
        "print(my_tuple.index(\"나\"))"
      ],
      "metadata": {
        "colab": {
          "base_uri": "https://localhost:8080/"
        },
        "id": "ofwUApQkDs8Y",
        "outputId": "36936156-143c-40aa-a81a-945c6061babd"
      },
      "execution_count": null,
      "outputs": [
        {
          "output_type": "stream",
          "name": "stdout",
          "text": [
            "3\n",
            "2\n"
          ]
        }
      ]
    },
    {
      "cell_type": "markdown",
      "source": [
        "# 딕셔너리"
      ],
      "metadata": {
        "id": "shD2uddTFQJx"
      }
    },
    {
      "cell_type": "code",
      "source": [
        "my_dict = {\n",
        "    \"name\" : \"kim\",\n",
        "    \"age\" : 30,\n",
        "    \"job\" : \"Data Scientist\",\n",
        "    \"shopping\" : [1, 2, 3]\n",
        "}\n",
        "\n",
        "# 값 추가\n",
        "my_dict[\"city\"] = \"서울\"\n",
        "print(my_dict)\n",
        "\n",
        "# 값 수정\n",
        "my_dict[\"shopping\"] = \"노트북\"\n",
        "print(my_dict)\n",
        "\n",
        "# 값 제거\n",
        "del my_dict[\"shopping\"]\n",
        "print(my_dict)"
      ],
      "metadata": {
        "colab": {
          "base_uri": "https://localhost:8080/"
        },
        "id": "Qlz7bHdnE5-p",
        "outputId": "cc913c42-8efa-4f53-f863-0577223cf168"
      },
      "execution_count": null,
      "outputs": [
        {
          "output_type": "stream",
          "name": "stdout",
          "text": [
            "{'name': 'kim', 'age': 30, 'job': 'Data Scientist', 'shopping': [1, 2, 3], 'city': '서울'}\n",
            "{'name': 'kim', 'age': 30, 'job': 'Data Scientist', 'shopping': '노트북', 'city': '서울'}\n",
            "{'name': 'kim', 'age': 30, 'job': 'Data Scientist', 'city': '서울'}\n"
          ]
        }
      ]
    },
    {
      "cell_type": "code",
      "source": [
        "my_dict.keys()"
      ],
      "metadata": {
        "colab": {
          "base_uri": "https://localhost:8080/"
        },
        "id": "9yE5bK5IF82E",
        "outputId": "e40e91de-62c2-4712-957b-869c21b06729"
      },
      "execution_count": null,
      "outputs": [
        {
          "output_type": "execute_result",
          "data": {
            "text/plain": [
              "dict_keys(['name', 'age', 'job', 'city'])"
            ]
          },
          "metadata": {},
          "execution_count": 126
        }
      ]
    },
    {
      "cell_type": "code",
      "source": [
        "my_dict.values()"
      ],
      "metadata": {
        "colab": {
          "base_uri": "https://localhost:8080/"
        },
        "id": "qgF0k_TrIloh",
        "outputId": "853e4bd2-4cc4-4a39-8c87-e2eaf63d466d"
      },
      "execution_count": null,
      "outputs": [
        {
          "output_type": "execute_result",
          "data": {
            "text/plain": [
              "dict_values(['kim', 30, 'Data Scientist', '서울'])"
            ]
          },
          "metadata": {},
          "execution_count": 127
        }
      ]
    },
    {
      "cell_type": "code",
      "source": [
        "my_dict.items()"
      ],
      "metadata": {
        "colab": {
          "base_uri": "https://localhost:8080/"
        },
        "id": "aAvCHqPMIosi",
        "outputId": "537d1095-332e-4bf1-d316-4e73def15753"
      },
      "execution_count": null,
      "outputs": [
        {
          "output_type": "execute_result",
          "data": {
            "text/plain": [
              "dict_items([('name', 'kim'), ('age', 30), ('job', 'Data Scientist'), ('city', '서울')])"
            ]
          },
          "metadata": {},
          "execution_count": 129
        }
      ]
    },
    {
      "cell_type": "code",
      "source": [
        "result = list(my_dict.items())\n",
        "result[0][1]"
      ],
      "metadata": {
        "colab": {
          "base_uri": "https://localhost:8080/",
          "height": 35
        },
        "id": "58Xh-frlIqOi",
        "outputId": "7b398cfd-fa5c-46ae-b692-1fe28e2536a9"
      },
      "execution_count": null,
      "outputs": [
        {
          "output_type": "execute_result",
          "data": {
            "text/plain": [
              "'kim'"
            ],
            "application/vnd.google.colaboratory.intrinsic+json": {
              "type": "string"
            }
          },
          "metadata": {},
          "execution_count": 130
        }
      ]
    },
    {
      "cell_type": "code",
      "source": [
        "# 인덱스 번호로 할당이 아닌 key 값\n",
        "\n",
        "for i in my_dict:\n",
        "  print(i)\n",
        "  print(my_dict[i])"
      ],
      "metadata": {
        "colab": {
          "base_uri": "https://localhost:8080/"
        },
        "id": "PqDnG4KcJCAT",
        "outputId": "3966702e-9ccc-4148-8f8b-1f58617514b9"
      },
      "execution_count": null,
      "outputs": [
        {
          "output_type": "stream",
          "name": "stdout",
          "text": [
            "name\n",
            "kim\n",
            "age\n",
            "30\n",
            "job\n",
            "Data Scientist\n",
            "city\n",
            "서울\n"
          ]
        }
      ]
    },
    {
      "cell_type": "code",
      "source": [
        "for k, v in my_dict.items():\n",
        "  print(k, v)"
      ],
      "metadata": {
        "colab": {
          "base_uri": "https://localhost:8080/"
        },
        "id": "LZvWWGEwJOny",
        "outputId": "6a1ae09a-887e-4284-aa33-bb1d4ec1f701"
      },
      "execution_count": null,
      "outputs": [
        {
          "output_type": "stream",
          "name": "stdout",
          "text": [
            "name kim\n",
            "age 30\n",
            "job Data Scientist\n",
            "city 서울\n"
          ]
        }
      ]
    },
    {
      "cell_type": "markdown",
      "source": [
        "# 조건문\n",
        "- if-else, elif 문 작성시 : 조건은 True"
      ],
      "metadata": {
        "id": "rq_Mhs1DJl1s"
      }
    },
    {
      "cell_type": "code",
      "source": [
        "a = 30\n",
        "b = 31\n",
        "\n",
        "if a >= b:\n",
        "  print(\"a 가 크다\")\n",
        "else:\n",
        "  print(\"b 가 크다\")"
      ],
      "metadata": {
        "colab": {
          "base_uri": "https://localhost:8080/"
        },
        "id": "7xE5whYjJke6",
        "outputId": "02bca2fe-e5f2-402d-80bd-4bf7d5e54d8d"
      },
      "execution_count": null,
      "outputs": [
        {
          "output_type": "stream",
          "name": "stdout",
          "text": [
            "b 가 크다\n"
          ]
        }
      ]
    },
    {
      "cell_type": "code",
      "source": [
        "a = 30\n",
        "b = 31\n",
        "\n",
        "if a > b:\n",
        "  print(\"a 가 크다\")\n",
        "elif a == b:\n",
        "  print(\"a 와 b 가 같다\")\n",
        "else:\n",
        "  print(\"b 가 크다\")"
      ],
      "metadata": {
        "colab": {
          "base_uri": "https://localhost:8080/"
        },
        "id": "9mbnf_rVJ2I6",
        "outputId": "2760bb9f-a8e2-4908-8c0a-dcd1c5fbd05d"
      },
      "execution_count": null,
      "outputs": [
        {
          "output_type": "stream",
          "name": "stdout",
          "text": [
            "b 가 크다\n"
          ]
        }
      ]
    },
    {
      "cell_type": "code",
      "source": [
        "# input() 임의의 숫자 1~100\n",
        "# 90 점 이상 A , 80 점 이상 B ,  나머지 C\n",
        "\n",
        "score = int(input(\"점수를 입력하세요.:\"))\n",
        "\n",
        "if 0 < score <= 100:\n",
        "  if score >= 90:\n",
        "    print(\"A\")\n",
        "  elif score >= 80:\n",
        "    print(\"B\")\n",
        "  else:\n",
        "    print(\"C\")\n",
        "else:\n",
        "  print(\"1~100 사이의 숫자를 입력하세요.\")"
      ],
      "metadata": {
        "colab": {
          "base_uri": "https://localhost:8080/"
        },
        "id": "AKzSXG7CKII6",
        "outputId": "3e4eb1c0-9ddc-446d-d544-47fff26fce44"
      },
      "execution_count": null,
      "outputs": [
        {
          "output_type": "stream",
          "name": "stdout",
          "text": [
            "점수를 입력하세요.:80\n",
            "B\n"
          ]
        }
      ]
    },
    {
      "cell_type": "code",
      "source": [
        "a = 38\n",
        "b = 30\n",
        "\n",
        "result = \"a 가 b 보다 크거나 같다\" if a >= b else \"b 가 a 보다 작다.\"\n",
        "print(result)"
      ],
      "metadata": {
        "colab": {
          "base_uri": "https://localhost:8080/"
        },
        "id": "8RmlwJTqKr0q",
        "outputId": "f2be6ec8-5985-41ee-f27e-12fe73589d46"
      },
      "execution_count": null,
      "outputs": [
        {
          "output_type": "stream",
          "name": "stdout",
          "text": [
            "a 가 b 보다 크거나 같다\n"
          ]
        }
      ]
    },
    {
      "cell_type": "markdown",
      "source": [
        "# 반복문\n",
        "\n",
        "- for loop\n",
        "- while loop"
      ],
      "metadata": {
        "id": "fO4phHzjPnRV"
      }
    },
    {
      "cell_type": "markdown",
      "source": [
        "## for Loop"
      ],
      "metadata": {
        "id": "Z-05-S90WV0m"
      }
    },
    {
      "cell_type": "code",
      "source": [
        "print(\"Hello World\")\n",
        "print(\"Hello World\")\n",
        "print(\"Hello World\")\n",
        "print(\"Hello World\")\n",
        "print(\"Hello World\")"
      ],
      "metadata": {
        "colab": {
          "base_uri": "https://localhost:8080/"
        },
        "id": "cWAOxJciPhY8",
        "outputId": "2ed83b4f-4fb5-4c65-f052-bf1e9b7c7f5e"
      },
      "execution_count": null,
      "outputs": [
        {
          "output_type": "stream",
          "name": "stdout",
          "text": [
            "Hello World\n",
            "Hello World\n",
            "Hello World\n",
            "Hello World\n",
            "Hello World\n"
          ]
        }
      ]
    },
    {
      "cell_type": "code",
      "source": [
        "for i in range(5):\n",
        "  print(\"Hello World\")"
      ],
      "metadata": {
        "colab": {
          "base_uri": "https://localhost:8080/"
        },
        "id": "4X3VDyQtQXwE",
        "outputId": "d33dd3c4-bb1c-41bd-87e6-4b25c729dfc6"
      },
      "execution_count": null,
      "outputs": [
        {
          "output_type": "stream",
          "name": "stdout",
          "text": [
            "Hello World\n",
            "Hello World\n",
            "Hello World\n",
            "Hello World\n",
            "Hello World\n"
          ]
        }
      ]
    },
    {
      "cell_type": "code",
      "source": [
        "programming = [\"Python\", \"HTML\", \"CSS\", \"JAVA\"]\n",
        "for i in programming:\n",
        "  print(i)"
      ],
      "metadata": {
        "colab": {
          "base_uri": "https://localhost:8080/"
        },
        "id": "icu2yiBZRpwN",
        "outputId": "97beee79-bd95-4230-d46b-ae47c11d2ff8"
      },
      "execution_count": null,
      "outputs": [
        {
          "output_type": "stream",
          "name": "stdout",
          "text": [
            "Python\n",
            "HTML\n",
            "CSS\n",
            "JAVA\n"
          ]
        }
      ]
    },
    {
      "cell_type": "code",
      "source": [
        "my_string = \"python\"\n",
        "for i in my_string:\n",
        "  print(i)"
      ],
      "metadata": {
        "colab": {
          "base_uri": "https://localhost:8080/"
        },
        "id": "Zyeo3PCrRy-l",
        "outputId": "282efaf5-821c-4cc3-fe7c-e1e47a449ded"
      },
      "execution_count": null,
      "outputs": [
        {
          "output_type": "stream",
          "name": "stdout",
          "text": [
            "p\n",
            "y\n",
            "t\n",
            "h\n",
            "o\n",
            "n\n"
          ]
        }
      ]
    },
    {
      "cell_type": "code",
      "source": [
        "my_tuple = (\"Python\", \"HTML\", \"CSS\", \"JAVA\")\n",
        "for i in my_tuple:\n",
        "  print(i)"
      ],
      "metadata": {
        "colab": {
          "base_uri": "https://localhost:8080/"
        },
        "id": "TQtatS8wR66q",
        "outputId": "f6314391-dff3-4c6d-ff9f-a418b52016df"
      },
      "execution_count": null,
      "outputs": [
        {
          "output_type": "stream",
          "name": "stdout",
          "text": [
            "Python\n",
            "HTML\n",
            "CSS\n",
            "JAVA\n"
          ]
        }
      ]
    },
    {
      "cell_type": "markdown",
      "source": [
        "+ TypeError: 'int' object is not iterable"
      ],
      "metadata": {
        "id": "eA7NkGPDScz4"
      }
    },
    {
      "cell_type": "code",
      "source": [
        "num = 1\n",
        "for i in num:\n",
        "  print(i)"
      ],
      "metadata": {
        "colab": {
          "base_uri": "https://localhost:8080/",
          "height": 211
        },
        "id": "B-B3MuQPSF59",
        "outputId": "f3817821-196d-436e-fba9-94a2879c3b65"
      },
      "execution_count": null,
      "outputs": [
        {
          "output_type": "error",
          "ename": "TypeError",
          "evalue": "ignored",
          "traceback": [
            "\u001b[0;31m---------------------------------------------------------------------------\u001b[0m",
            "\u001b[0;31mTypeError\u001b[0m                                 Traceback (most recent call last)",
            "\u001b[0;32m<ipython-input-158-4fd500276593>\u001b[0m in \u001b[0;36m<cell line: 2>\u001b[0;34m()\u001b[0m\n\u001b[1;32m      1\u001b[0m \u001b[0mnum\u001b[0m \u001b[0;34m=\u001b[0m \u001b[0;36m1\u001b[0m\u001b[0;34m\u001b[0m\u001b[0;34m\u001b[0m\u001b[0m\n\u001b[0;32m----> 2\u001b[0;31m \u001b[0;32mfor\u001b[0m \u001b[0mi\u001b[0m \u001b[0;32min\u001b[0m \u001b[0mnum\u001b[0m\u001b[0;34m:\u001b[0m\u001b[0;34m\u001b[0m\u001b[0;34m\u001b[0m\u001b[0m\n\u001b[0m\u001b[1;32m      3\u001b[0m   \u001b[0mprint\u001b[0m\u001b[0;34m(\u001b[0m\u001b[0mi\u001b[0m\u001b[0;34m)\u001b[0m\u001b[0;34m\u001b[0m\u001b[0;34m\u001b[0m\u001b[0m\n",
            "\u001b[0;31mTypeError\u001b[0m: 'int' object is not iterable"
          ]
        }
      ]
    },
    {
      "cell_type": "code",
      "source": [
        "programming = [\"Python\", \"HTML\", \"CSS\", \"JAVA\"]\n",
        "for i in programming:\n",
        "  print(i)\n",
        "else:\n",
        "  print(\"반복문 종료\")"
      ],
      "metadata": {
        "colab": {
          "base_uri": "https://localhost:8080/"
        },
        "id": "cNfN4FrMSKTN",
        "outputId": "7c426b2e-9757-4541-d52b-ebf1ed4fbfeb"
      },
      "execution_count": null,
      "outputs": [
        {
          "output_type": "stream",
          "name": "stdout",
          "text": [
            "Python\n",
            "HTML\n",
            "CSS\n",
            "JAVA\n",
            "반복문 종료\n"
          ]
        }
      ]
    },
    {
      "cell_type": "code",
      "source": [
        "programming = [\"Python\", \"HTML\", \"CSS\", \"JAVA\"]\n",
        "for idx, item in enumerate(programming):\n",
        "  print(idx, item)"
      ],
      "metadata": {
        "colab": {
          "base_uri": "https://localhost:8080/"
        },
        "id": "aZCXSQ1FSX-0",
        "outputId": "bc0ce324-60db-4416-e9be-9a518530e8db"
      },
      "execution_count": null,
      "outputs": [
        {
          "output_type": "stream",
          "name": "stdout",
          "text": [
            "0 Python\n",
            "1 HTML\n",
            "2 CSS\n",
            "3 JAVA\n"
          ]
        }
      ]
    },
    {
      "cell_type": "code",
      "source": [
        "total_sales = [1000, 2000, 3000]\n",
        "prices = [2.5, 3.3, 1.9]\n",
        "\n",
        "for sales, price in zip(total_sales, prices):\n",
        "  revenue = sales * price\n",
        "  print(sales, price, revenue)"
      ],
      "metadata": {
        "colab": {
          "base_uri": "https://localhost:8080/"
        },
        "id": "fe6ky80SSq7d",
        "outputId": "adec8fb3-dcd9-4dbc-ed74-1d99b6d476a2"
      },
      "execution_count": null,
      "outputs": [
        {
          "output_type": "stream",
          "name": "stdout",
          "text": [
            "1000 2.5 2500.0\n",
            "2000 3.3 6600.0\n",
            "3000 1.9 5700.0\n"
          ]
        }
      ]
    },
    {
      "cell_type": "markdown",
      "source": [
        "### List Comprehension\n",
        "참조 : https://docs.python.org/3/tutorial/datastructures.html"
      ],
      "metadata": {
        "id": "4O3Dt4rlVNeu"
      }
    },
    {
      "cell_type": "code",
      "source": [
        "prices = [\"25,000\", \"30,000\", \"10,000\", \"15,000\", \"20,000\"]\n",
        "\n",
        "prices = [int(x.replace(\",\",\"\")) for x in prices]\n",
        "print(prices)"
      ],
      "metadata": {
        "colab": {
          "base_uri": "https://localhost:8080/"
        },
        "id": "Lrq6_KouUvee",
        "outputId": "e0b19fe2-7dbd-40d4-9ee0-d7c8abe02150"
      },
      "execution_count": null,
      "outputs": [
        {
          "output_type": "stream",
          "name": "stdout",
          "text": [
            "[25000, 30000, 10000, 15000, 20000]\n"
          ]
        }
      ]
    },
    {
      "cell_type": "markdown",
      "source": [
        "## while Loop\n",
        "- for loop 는 반복문을 해야 하는 범위가 주어짐.\n",
        "- while loop 는 조건이 참이면 반복, 조건이 거짓일 때 종료"
      ],
      "metadata": {
        "id": "bQJAbcxTWPuQ"
      }
    },
    {
      "cell_type": "code",
      "source": [
        "for i in range(1, 4):\n",
        "  print(i)"
      ],
      "metadata": {
        "colab": {
          "base_uri": "https://localhost:8080/"
        },
        "id": "Gf-uf6TxVZO-",
        "outputId": "cd9a16b6-08b3-471c-89b2-030a51014b7c"
      },
      "execution_count": null,
      "outputs": [
        {
          "output_type": "stream",
          "name": "stdout",
          "text": [
            "1\n",
            "2\n",
            "3\n"
          ]
        }
      ]
    },
    {
      "cell_type": "code",
      "source": [
        "i = 1\n",
        "\n",
        "while i <= 3:\n",
        "  print(i)\n",
        "  i = i + 1"
      ],
      "metadata": {
        "colab": {
          "base_uri": "https://localhost:8080/"
        },
        "id": "EYgFZJ3EX9BG",
        "outputId": "9f4ab64f-770f-411a-f5c0-4be67300393a"
      },
      "execution_count": null,
      "outputs": [
        {
          "output_type": "stream",
          "name": "stdout",
          "text": [
            "1\n",
            "2\n",
            "3\n"
          ]
        }
      ]
    },
    {
      "cell_type": "code",
      "source": [
        "username = input(\"사용자 이름을 입력해주세요.:\")\n",
        "password = \"1234\"\n",
        "\n",
        "run = True\n",
        "\n",
        "while run: \n",
        "  i_password = input(\"비밀번호를 입력해주세요.:\")\n",
        "\n",
        "  if password == i_password:\n",
        "    run = False\n",
        "  else:\n",
        "    print(\"정확한 비밀번호가 필요합니다.\")\n",
        "\n",
        "print(f\"{username} 님 환영합니다.\")"
      ],
      "metadata": {
        "colab": {
          "base_uri": "https://localhost:8080/"
        },
        "id": "TiFai_VrYBxC",
        "outputId": "5f2ce2f0-2a5f-46e6-b17c-f24bf79c084d"
      },
      "execution_count": 1,
      "outputs": [
        {
          "output_type": "stream",
          "name": "stdout",
          "text": [
            "사용자 이름을 입력해주세요.:king\n",
            "비밀번호를 입력해주세요.:123\n",
            "정확한 비밀번호가 필요합니다.\n",
            "비밀번호를 입력해주세요.:1234\n",
            "king 님 환영합니다.\n"
          ]
        }
      ]
    },
    {
      "cell_type": "code",
      "source": [
        "username = input(\"사용자 이름을 입력해주세요.:\")\n",
        "password = \"\"\n",
        "\n",
        "while password != \"A\": \n",
        "  print(\"정확한 비밀번호가 필요합니다.\")\n",
        "  password = input(\"비밀번호를 입력해주세요.:\")\n",
        "\n",
        "print(f\"{username} 님 환영합니다.\")"
      ],
      "metadata": {
        "colab": {
          "base_uri": "https://localhost:8080/"
        },
        "id": "QFqibfJfZIaR",
        "outputId": "589db3b3-f814-4790-c97d-355abe3948ae"
      },
      "execution_count": null,
      "outputs": [
        {
          "output_type": "stream",
          "name": "stdout",
          "text": [
            "사용자 이름을 입력해주세요.:A\n",
            "정확한 비밀번호가 필요합니다.\n",
            "비밀번호를 입력해주세요.:A\n",
            "A 님 환영합니다.\n"
          ]
        }
      ]
    },
    {
      "cell_type": "code",
      "source": [],
      "metadata": {
        "id": "NVKu3z5IaF8c"
      },
      "execution_count": null,
      "outputs": []
    }
  ]
}